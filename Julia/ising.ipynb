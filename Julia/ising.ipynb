{
 "cells": [
  {
   "cell_type": "code",
   "execution_count": 1,
   "source": [
    "# The required packages\n",
    "using Printf\n",
    "using Plots\n",
    "using ProgressBars\n"
   ],
   "outputs": [],
   "metadata": {}
  },
  {
   "cell_type": "markdown",
   "source": [
    "To download packages required run the following cells:\n"
   ],
   "metadata": {}
  },
  {
   "cell_type": "code",
   "execution_count": 2,
   "source": [
    "using Pkg\n",
    "Pkg.add(\"Plots\")\n",
    "Pkg.add(\"ProgressBars\")\n"
   ],
   "outputs": [
    {
     "output_type": "stream",
     "name": "stderr",
     "text": [
      "\u001b[32m\u001b[1m    Updating\u001b[22m\u001b[39m registry at `~/.julia/registries/General`\n",
      "\u001b[32m\u001b[1m   Resolving\u001b[22m\u001b[39m package versions...\n",
      "\u001b[32m\u001b[1m  No Changes\u001b[22m\u001b[39m to `~/.julia/environments/v1.6/Project.toml`\n",
      "\u001b[32m\u001b[1m  No Changes\u001b[22m\u001b[39m to `~/.julia/environments/v1.6/Manifest.toml`\n",
      "\u001b[32m\u001b[1m   Resolving\u001b[22m\u001b[39m package versions...\n",
      "\u001b[32m\u001b[1m  No Changes\u001b[22m\u001b[39m to `~/.julia/environments/v1.6/Project.toml`\n",
      "\u001b[32m\u001b[1m  No Changes\u001b[22m\u001b[39m to `~/.julia/environments/v1.6/Manifest.toml`\n"
     ]
    }
   ],
   "metadata": {}
  },
  {
   "cell_type": "markdown",
   "source": [
    "lets define the constants"
   ],
   "metadata": {}
  },
  {
   "cell_type": "code",
   "execution_count": 3,
   "source": [
    "const L       = 50             # Define size of lattice\n",
    "const n_sweep = 20             # Define number of sweeps between sampling\n",
    "const n_therm = 100       # Define number of sweeps \n",
    "const n_data  = 10000            # Define number of data samples per temperature\n",
    "const temps   = 4.0:-0.3:0.1   # Define temperatures range \n"
   ],
   "outputs": [
    {
     "output_type": "execute_result",
     "data": {
      "text/plain": [
       "4.0:-0.3:0.1"
      ]
     },
     "metadata": {},
     "execution_count": 3
    }
   ],
   "metadata": {}
  },
  {
   "cell_type": "markdown",
   "source": [
    "Define a function that measures the i'th sample of energy and magnetization"
   ],
   "metadata": {}
  },
  {
   "cell_type": "code",
   "execution_count": 4,
   "source": [
    "function measure(i, energy, magnetization, s)      \n",
    "    en = 0\n",
    "    m = 0\n",
    "    for x = 1:L\n",
    "        for y = 1:L\n",
    "            u = 1+mod(y,L) # up \n",
    "            r = 1+mod(x,L) # right \n",
    "            en -= s[x,y]*(s[x,u]+s[r,y]) # energy\n",
    "            m  += s[x,y]                 # magnetization\n",
    "        end\n",
    "    end\n",
    "    energy[i] = en\n",
    "    magnetization[i] = abs(m)\n",
    "end"
   ],
   "outputs": [
    {
     "output_type": "execute_result",
     "data": {
      "text/plain": [
       "measure (generic function with 1 method)"
      ]
     },
     "metadata": {},
     "execution_count": 4
    }
   ],
   "metadata": {}
  },
  {
   "cell_type": "markdown",
   "source": [
    "implementing flip function to apply metropolis spin flip algorithm to site (x,y) / temp T"
   ],
   "metadata": {}
  },
  {
   "cell_type": "code",
   "execution_count": 5,
   "source": [
    "function flip(x, y, T, s)\n",
    "    u = 1+mod(y,L)   # up\n",
    "    d = 1+mod(y-2,L) # down\n",
    "    r = 1+mod(x,L)   # right\n",
    "    l = 1+mod(x-2,L) # left\n",
    "    de = 2*s[x,y]*(s[x,u]+s[x,d]+s[l,y]+s[r,y])\n",
    "    if (de < 0)\n",
    "        s[x,y] = -s[x,y]\n",
    "    else\n",
    "        p = rand()\n",
    "        if (p < exp(-de/T))\n",
    "            s[x,y] = -s[x,y]\n",
    "        end\n",
    "    end\n",
    "end\n"
   ],
   "outputs": [
    {
     "output_type": "execute_result",
     "data": {
      "text/plain": [
       "flip (generic function with 1 method)"
      ]
     },
     "metadata": {},
     "execution_count": 5
    }
   ],
   "metadata": {}
  },
  {
   "cell_type": "markdown",
   "source": [
    "Implementing sweeb function to apply  flip function to every site on the lattice"
   ],
   "metadata": {}
  },
  {
   "cell_type": "code",
   "execution_count": 6,
   "source": [
    "function sweep(n, T, s) \n",
    "    for i = 1:n\n",
    "        for x = 1:L\n",
    "            for y = 1:L\n",
    "                flip(x,y,T, s)\n",
    "            end\n",
    "        end\n",
    "    end\n",
    "end"
   ],
   "outputs": [
    {
     "output_type": "execute_result",
     "data": {
      "text/plain": [
       "sweep (generic function with 1 method)"
      ]
     },
     "metadata": {},
     "execution_count": 6
    }
   ],
   "metadata": {}
  },
  {
   "cell_type": "markdown",
   "source": [
    "Implement main julia function for algorithm opreating and calculation of physical quantities"
   ],
   "metadata": {}
  },
  {
   "cell_type": "markdown",
   "source": [
    "Now lets plot the physical quantities vs temperature"
   ],
   "metadata": {}
  },
  {
   "cell_type": "code",
   "execution_count": 13,
   "source": [
    "function main()\n",
    "    e1 = Array(1:n_data)     # This array purpose is to hold energy measurements (fixed T)\n",
    "    m1 = Array(1:n_data)     # This array purpose is to hold magnetization measurements (fixed T)\n",
    "    en = []                  # This array purpose is to append average energy at each T\n",
    "    mz = []                  # This is magnetization array\n",
    "    s  = ones(Int32,L,L)     # lattice of Ising spins (+/-1)\n",
    "    for T in tqdm(temps)              # Lets loop over temperatures range\n",
    "        sweep(n_therm, T, s)    # Sweebs over the lattice to assign tempreatures\n",
    "        energy        = e1      # Reset energy measurement array\n",
    "        magnetization = m1      # Reset magnetization measurement array\n",
    "        for i = 1:n_data        # Take n_data measurements w/ n_sweep \n",
    "            sweep(n_sweep, T, s)   \n",
    "            measure(i, energy, magnetization, s)\n",
    "        end\n",
    "        avg_en = sum(energy)/n_data           # calculate average energy\n",
    "        avg_ma = sum(magnetization)/n_data    # calculate average magnetization\n",
    "        push!(en,avg_en/(L*L))                # Add those to the list\n",
    "        push!(mz,avg_ma/(L*L))\n",
    "        # @printf(\"%8.3f  %8.3f \\n\", avg_en/(L*L), avg_ma/(L*L)) # using this for debugging code purposes to see values.\n",
    "    end\n",
    "    gr() # Set the backend to GR\n",
    "    plot(temps,mz,title = \"Magnetization vs Temperature\",xlabel = \"Temperature\",ylabel = \"Magnetization\",label = \"Magnetization\") # plot Magnetization vs Temperature\n",
    "    savefig(\"plots/Magnetization.pdf\")\n",
    "    plot(temps,en,title = \"Energy vs Temperature\",xlabel = \"Temperature\",ylabel = \"Energy\",label=\"Energy\") # plot Energy vs. Temperature\n",
    "    savefig(\"plots/Energy.pdf\")\n",
    "end\n",
    "\n",
    "main()"
   ],
   "outputs": [
    {
     "output_type": "stream",
     "name": "stderr",
     "text": [
      "0.0%┣                                               ┫ 0/14 [00:00<00:-1, -0s/it]\n",
      "7.1%┣███                                        ┫ 1/14 [00:21<Inf:Inf, InfGs/it]\n",
      "14.3%┣██████▋                                       ┫ 2/14 [00:42<08:27, 42s/it]\n",
      "21.4%┣█████████▉                                    ┫ 3/14 [01:03<05:46, 31s/it]\n",
      "28.6%┣█████████████▏                                ┫ 4/14 [01:23<04:38, 28s/it]\n",
      "35.7%┣████████████████▍                             ┫ 5/14 [01:43<03:52, 26s/it]\n",
      "42.9%┣███████████████████▊                          ┫ 6/14 [02:02<03:15, 24s/it]\n",
      "50.0%┣███████████████████████                       ┫ 7/14 [02:18<02:41, 23s/it]\n",
      "57.1%┣██████████████████████████▎                   ┫ 8/14 [02:33<02:11, 22s/it]\n",
      "64.3%┣█████████████████████████████▋                ┫ 9/14 [02:48<01:45, 21s/it]\n",
      "71.4%┣████████████████████████████████▏            ┫ 10/14 [03:02<01:21, 20s/it]\n",
      "78.6%┣███████████████████████████████████▍         ┫ 11/14 [03:17<00:59, 20s/it]\n",
      "85.7%┣██████████████████████████████████████▋      ┫ 12/14 [03:32<00:38, 19s/it]\n",
      "92.9%┣█████████████████████████████████████████▉   ┫ 13/14 [03:46<00:19, 19s/it]\n",
      "100.0%┣████████████████████████████████████████████┫ 14/14 [04:01<00:00, 19s/it]\n",
      "100.0%┣████████████████████████████████████████████┫ 14/14 [04:01<00:00, 19s/it]\n"
     ]
    }
   ],
   "metadata": {}
  }
 ],
 "metadata": {
  "orig_nbformat": 4,
  "language_info": {
   "file_extension": ".jl",
   "name": "julia",
   "mimetype": "application/julia",
   "version": "1.6.2"
  },
  "kernelspec": {
   "name": "julia-1.6",
   "display_name": "Julia 1.6.2",
   "language": "julia"
  }
 },
 "nbformat": 4,
 "nbformat_minor": 2
}