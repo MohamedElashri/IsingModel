{
  "nbformat": 4,
  "nbformat_minor": 0,
  "metadata": {
    "kernelspec": {
      "display_name": "Python 3",
      "language": "python",
      "name": "python3"
    },
    "language_info": {
      "codemirror_mode": {
        "name": "ipython",
        "version": 3
      },
      "file_extension": ".py",
      "mimetype": "text/x-python",
      "name": "python",
      "nbconvert_exporter": "python",
      "pygments_lexer": "ipython3",
      "version": "3.6.9"
    },
    "colab": {
      "name": "Ising.ipynb",
      "provenance": [],
      "collapsed_sections": [],
      "include_colab_link": true
    },
    "widgets": {
      "application/vnd.jupyter.widget-state+json": {
        "16b5752ddedf42ecbad8ee4cd2e10822": {
          "model_module": "@jupyter-widgets/controls",
          "model_name": "HBoxModel",
          "state": {
            "_view_name": "HBoxView",
            "_dom_classes": [],
            "_model_name": "HBoxModel",
            "_view_module": "@jupyter-widgets/controls",
            "_model_module_version": "1.5.0",
            "_view_count": null,
            "_view_module_version": "1.5.0",
            "box_style": "",
            "layout": "IPY_MODEL_73326740dadb4dcd8099cbf6686d8e81",
            "_model_module": "@jupyter-widgets/controls",
            "children": [
              "IPY_MODEL_cd93a074d55441c4966307284be43abe",
              "IPY_MODEL_8702078933234bf1aa1eb637bc4e38fd"
            ]
          }
        },
        "73326740dadb4dcd8099cbf6686d8e81": {
          "model_module": "@jupyter-widgets/base",
          "model_name": "LayoutModel",
          "state": {
            "_view_name": "LayoutView",
            "grid_template_rows": null,
            "right": null,
            "justify_content": null,
            "_view_module": "@jupyter-widgets/base",
            "overflow": null,
            "_model_module_version": "1.2.0",
            "_view_count": null,
            "flex_flow": null,
            "width": null,
            "min_width": null,
            "border": null,
            "align_items": null,
            "bottom": null,
            "_model_module": "@jupyter-widgets/base",
            "top": null,
            "grid_column": null,
            "overflow_y": null,
            "overflow_x": null,
            "grid_auto_flow": null,
            "grid_area": null,
            "grid_template_columns": null,
            "flex": null,
            "_model_name": "LayoutModel",
            "justify_items": null,
            "grid_row": null,
            "max_height": null,
            "align_content": null,
            "visibility": null,
            "align_self": null,
            "height": null,
            "min_height": null,
            "padding": null,
            "grid_auto_rows": null,
            "grid_gap": null,
            "max_width": null,
            "order": null,
            "_view_module_version": "1.2.0",
            "grid_template_areas": null,
            "object_position": null,
            "object_fit": null,
            "grid_auto_columns": null,
            "margin": null,
            "display": null,
            "left": null
          }
        },
        "cd93a074d55441c4966307284be43abe": {
          "model_module": "@jupyter-widgets/controls",
          "model_name": "FloatProgressModel",
          "state": {
            "_view_name": "ProgressView",
            "style": "IPY_MODEL_79e4ae47b99d4b8b9e2f38edd3338aa9",
            "_dom_classes": [],
            "description": "100%",
            "_model_name": "FloatProgressModel",
            "bar_style": "success",
            "max": 165,
            "_view_module": "@jupyter-widgets/controls",
            "_model_module_version": "1.5.0",
            "value": 165,
            "_view_count": null,
            "_view_module_version": "1.5.0",
            "orientation": "horizontal",
            "min": 0,
            "description_tooltip": null,
            "_model_module": "@jupyter-widgets/controls",
            "layout": "IPY_MODEL_094ed15455be42f8b711d5b47ca0a4b7"
          }
        },
        "8702078933234bf1aa1eb637bc4e38fd": {
          "model_module": "@jupyter-widgets/controls",
          "model_name": "HTMLModel",
          "state": {
            "_view_name": "HTMLView",
            "style": "IPY_MODEL_cc34364c090d489d877d9fa15b577f55",
            "_dom_classes": [],
            "description": "",
            "_model_name": "HTMLModel",
            "placeholder": "​",
            "_view_module": "@jupyter-widgets/controls",
            "_model_module_version": "1.5.0",
            "value": " 165/165 [41:35&lt;00:00, 15.12s/it]",
            "_view_count": null,
            "_view_module_version": "1.5.0",
            "description_tooltip": null,
            "_model_module": "@jupyter-widgets/controls",
            "layout": "IPY_MODEL_b8b58123714348aabae765de852e6595"
          }
        },
        "79e4ae47b99d4b8b9e2f38edd3338aa9": {
          "model_module": "@jupyter-widgets/controls",
          "model_name": "ProgressStyleModel",
          "state": {
            "_view_name": "StyleView",
            "_model_name": "ProgressStyleModel",
            "description_width": "initial",
            "_view_module": "@jupyter-widgets/base",
            "_model_module_version": "1.5.0",
            "_view_count": null,
            "_view_module_version": "1.2.0",
            "bar_color": null,
            "_model_module": "@jupyter-widgets/controls"
          }
        },
        "094ed15455be42f8b711d5b47ca0a4b7": {
          "model_module": "@jupyter-widgets/base",
          "model_name": "LayoutModel",
          "state": {
            "_view_name": "LayoutView",
            "grid_template_rows": null,
            "right": null,
            "justify_content": null,
            "_view_module": "@jupyter-widgets/base",
            "overflow": null,
            "_model_module_version": "1.2.0",
            "_view_count": null,
            "flex_flow": null,
            "width": null,
            "min_width": null,
            "border": null,
            "align_items": null,
            "bottom": null,
            "_model_module": "@jupyter-widgets/base",
            "top": null,
            "grid_column": null,
            "overflow_y": null,
            "overflow_x": null,
            "grid_auto_flow": null,
            "grid_area": null,
            "grid_template_columns": null,
            "flex": null,
            "_model_name": "LayoutModel",
            "justify_items": null,
            "grid_row": null,
            "max_height": null,
            "align_content": null,
            "visibility": null,
            "align_self": null,
            "height": null,
            "min_height": null,
            "padding": null,
            "grid_auto_rows": null,
            "grid_gap": null,
            "max_width": null,
            "order": null,
            "_view_module_version": "1.2.0",
            "grid_template_areas": null,
            "object_position": null,
            "object_fit": null,
            "grid_auto_columns": null,
            "margin": null,
            "display": null,
            "left": null
          }
        },
        "cc34364c090d489d877d9fa15b577f55": {
          "model_module": "@jupyter-widgets/controls",
          "model_name": "DescriptionStyleModel",
          "state": {
            "_view_name": "StyleView",
            "_model_name": "DescriptionStyleModel",
            "description_width": "",
            "_view_module": "@jupyter-widgets/base",
            "_model_module_version": "1.5.0",
            "_view_count": null,
            "_view_module_version": "1.2.0",
            "_model_module": "@jupyter-widgets/controls"
          }
        },
        "b8b58123714348aabae765de852e6595": {
          "model_module": "@jupyter-widgets/base",
          "model_name": "LayoutModel",
          "state": {
            "_view_name": "LayoutView",
            "grid_template_rows": null,
            "right": null,
            "justify_content": null,
            "_view_module": "@jupyter-widgets/base",
            "overflow": null,
            "_model_module_version": "1.2.0",
            "_view_count": null,
            "flex_flow": null,
            "width": null,
            "min_width": null,
            "border": null,
            "align_items": null,
            "bottom": null,
            "_model_module": "@jupyter-widgets/base",
            "top": null,
            "grid_column": null,
            "overflow_y": null,
            "overflow_x": null,
            "grid_auto_flow": null,
            "grid_area": null,
            "grid_template_columns": null,
            "flex": null,
            "_model_name": "LayoutModel",
            "justify_items": null,
            "grid_row": null,
            "max_height": null,
            "align_content": null,
            "visibility": null,
            "align_self": null,
            "height": null,
            "min_height": null,
            "padding": null,
            "grid_auto_rows": null,
            "grid_gap": null,
            "max_width": null,
            "order": null,
            "_view_module_version": "1.2.0",
            "grid_template_areas": null,
            "object_position": null,
            "object_fit": null,
            "grid_auto_columns": null,
            "margin": null,
            "display": null,
            "left": null
          }
        }
      }
    }
  },
  "cells": [
    {
      "cell_type": "markdown",
      "metadata": {
        "id": "view-in-github",
        "colab_type": "text"
      },
      "source": [
        "<a href=\"https://colab.research.google.com/github/MohamedElashri/IsingModel/blob/main/Ising.ipynb\" target=\"_parent\"><img src=\"https://colab.research.google.com/assets/colab-badge.svg\" alt=\"Open In Colab\"/></a>"
      ]
    },
    {
      "cell_type": "markdown",
      "metadata": {
        "id": "dASZ40h2DtnR"
      },
      "source": [
        "# 2D Ising Model\n",
        " 2d Ising model Monte-Carlo Simulation\n",
        "\n",
        " Author: Mohamed Elashri \n",
        " \n",
        " Email: elashrmr@mail.uc.edu\n",
        "\n",
        "  ## Algorithm \n",
        " 1. Prepare some initial configrations of N spins. \n",
        " 2. Flip spin of a lattice site chosen randomly \n",
        " 3. Calculate the change in energy due to that \n",
        " 4. If this change is negative, accept such move. If change is positive,    accept it with probability exp^{-dE/kT}\n",
        " 5. repeat 2-4. \n",
        " 6. calculate Other parameters and plot them \n"
      ]
    },
    {
      "cell_type": "markdown",
      "metadata": {
        "id": "tko2v6nxfGdJ"
      },
      "source": [
        "I spent many nights working on this work, most of time I needed to opptimize my code, \n",
        "I even tried to move to matlab (last time I used it was like 5 years ago). \n",
        "But I learned a nice thing from my desire to optimize code speed. it is the usage of Numba’s JIT compiler. read more about jit compiler here. http://melashri.net/url/b.\n",
        "I also instead of using multiple nested loops I dragged all these into just one. Interior loops in Python have always been slow due to the absence of type information. Python’s duck typing system really comes to bite when this absence of typing creates unnecessary code and indirection, leading to relatively slow inner loops. \n",
        "\n",
        "\n",
        "\n",
        "Imagine running 50x50 lattice simulation in my older codes for hours (one to ok 6 hours) vs 15 minutes for the currect script. (On my Mac m1 Machine).\n",
        "\n",
        "\n",
        "Hint: It is much easier to run the work here on colab or take the python script to other platforms than Mac m1 as you will struggle with installing numba issues there (llvmlite required to build the package is not officially supported yet and the workaround is very technical and time consuming but the performance there is impressive). \n",
        "\n",
        "To install it on Mac m1 we do the following \n",
        "\n",
        "\n",
        "\n",
        "```\n",
        "python3 -m pip install  conda \n",
        "```\n",
        "\n",
        "```\n",
        "python3 -m pip install  cytoolz\n",
        "```\n",
        "\n",
        "```\n",
        "python3 -m conda config --add channels conda-forge\n",
        "```\n",
        "\n",
        "```\n",
        "python3 -m  conda install -c numba numba\n",
        "```\n",
        "\n",
        "Hint: I'm assuming that we are using Python3 version from homebrew not the one comes with OS which we shouldn't work with or try to modify except for Mac OS stuff. This can be done by adding the path to `.bashrc` or `.zshrc` by adding `export PATH=\"/usr/local/opt/python/libexec/bin:$PATH\"` line to the either files."
      ]
    },
    {
      "cell_type": "code",
      "metadata": {
        "id": "UlvGE50jqrH9",
        "colab": {
          "base_uri": "https://localhost:8080/"
        },
        "outputId": "2aa04872-7431-490b-c263-48271f2df3f3"
      },
      "source": [
        "# To know about colab specs and compare them with your machine for test comparisons \n",
        "!cat /proc/cpuinfo # For CPU\n",
        "!cat /proc/meminfo # For memory"
      ],
      "execution_count": null,
      "outputs": [
        {
          "output_type": "stream",
          "text": [
            "processor\t: 0\n",
            "vendor_id\t: GenuineIntel\n",
            "cpu family\t: 6\n",
            "model\t\t: 85\n",
            "model name\t: Intel(R) Xeon(R) CPU @ 2.00GHz\n",
            "stepping\t: 3\n",
            "microcode\t: 0x1\n",
            "cpu MHz\t\t: 1999.999\n",
            "cache size\t: 39424 KB\n",
            "physical id\t: 0\n",
            "siblings\t: 2\n",
            "core id\t\t: 0\n",
            "cpu cores\t: 1\n",
            "apicid\t\t: 0\n",
            "initial apicid\t: 0\n",
            "fpu\t\t: yes\n",
            "fpu_exception\t: yes\n",
            "cpuid level\t: 13\n",
            "wp\t\t: yes\n",
            "flags\t\t: fpu vme de pse tsc msr pae mce cx8 apic sep mtrr pge mca cmov pat pse36 clflush mmx fxsr sse sse2 ss ht syscall nx pdpe1gb rdtscp lm constant_tsc rep_good nopl xtopology nonstop_tsc cpuid tsc_known_freq pni pclmulqdq ssse3 fma cx16 pcid sse4_1 sse4_2 x2apic movbe popcnt aes xsave avx f16c rdrand hypervisor lahf_lm abm 3dnowprefetch invpcid_single ssbd ibrs ibpb stibp fsgsbase tsc_adjust bmi1 hle avx2 smep bmi2 erms invpcid rtm mpx avx512f avx512dq rdseed adx smap clflushopt clwb avx512cd avx512bw avx512vl xsaveopt xsavec xgetbv1 xsaves arat md_clear arch_capabilities\n",
            "bugs\t\t: cpu_meltdown spectre_v1 spectre_v2 spec_store_bypass l1tf mds swapgs taa\n",
            "bogomips\t: 3999.99\n",
            "clflush size\t: 64\n",
            "cache_alignment\t: 64\n",
            "address sizes\t: 46 bits physical, 48 bits virtual\n",
            "power management:\n",
            "\n",
            "processor\t: 1\n",
            "vendor_id\t: GenuineIntel\n",
            "cpu family\t: 6\n",
            "model\t\t: 85\n",
            "model name\t: Intel(R) Xeon(R) CPU @ 2.00GHz\n",
            "stepping\t: 3\n",
            "microcode\t: 0x1\n",
            "cpu MHz\t\t: 1999.999\n",
            "cache size\t: 39424 KB\n",
            "physical id\t: 0\n",
            "siblings\t: 2\n",
            "core id\t\t: 0\n",
            "cpu cores\t: 1\n",
            "apicid\t\t: 1\n",
            "initial apicid\t: 1\n",
            "fpu\t\t: yes\n",
            "fpu_exception\t: yes\n",
            "cpuid level\t: 13\n",
            "wp\t\t: yes\n",
            "flags\t\t: fpu vme de pse tsc msr pae mce cx8 apic sep mtrr pge mca cmov pat pse36 clflush mmx fxsr sse sse2 ss ht syscall nx pdpe1gb rdtscp lm constant_tsc rep_good nopl xtopology nonstop_tsc cpuid tsc_known_freq pni pclmulqdq ssse3 fma cx16 pcid sse4_1 sse4_2 x2apic movbe popcnt aes xsave avx f16c rdrand hypervisor lahf_lm abm 3dnowprefetch invpcid_single ssbd ibrs ibpb stibp fsgsbase tsc_adjust bmi1 hle avx2 smep bmi2 erms invpcid rtm mpx avx512f avx512dq rdseed adx smap clflushopt clwb avx512cd avx512bw avx512vl xsaveopt xsavec xgetbv1 xsaves arat md_clear arch_capabilities\n",
            "bugs\t\t: cpu_meltdown spectre_v1 spectre_v2 spec_store_bypass l1tf mds swapgs taa\n",
            "bogomips\t: 3999.99\n",
            "clflush size\t: 64\n",
            "cache_alignment\t: 64\n",
            "address sizes\t: 46 bits physical, 48 bits virtual\n",
            "power management:\n",
            "\n",
            "MemTotal:       13333564 kB\n",
            "MemFree:        10848540 kB\n",
            "MemAvailable:   12504828 kB\n",
            "Buffers:           74596 kB\n",
            "Cached:          1735764 kB\n",
            "SwapCached:            0 kB\n",
            "Active:           933776 kB\n",
            "Inactive:        1275080 kB\n",
            "Active(anon):     377156 kB\n",
            "Inactive(anon):      352 kB\n",
            "Active(file):     556620 kB\n",
            "Inactive(file):  1274728 kB\n",
            "Unevictable:           0 kB\n",
            "Mlocked:               0 kB\n",
            "SwapTotal:             0 kB\n",
            "SwapFree:              0 kB\n",
            "Dirty:              1152 kB\n",
            "Writeback:             0 kB\n",
            "AnonPages:        398588 kB\n",
            "Mapped:           216148 kB\n",
            "Shmem:               984 kB\n",
            "Slab:             173308 kB\n",
            "SReclaimable:     131448 kB\n",
            "SUnreclaim:        41860 kB\n",
            "KernelStack:        4208 kB\n",
            "PageTables:         5500 kB\n",
            "NFS_Unstable:          0 kB\n",
            "Bounce:                0 kB\n",
            "WritebackTmp:          0 kB\n",
            "CommitLimit:     6666780 kB\n",
            "Committed_AS:    3031972 kB\n",
            "VmallocTotal:   34359738367 kB\n",
            "VmallocUsed:           0 kB\n",
            "VmallocChunk:          0 kB\n",
            "Percpu:             1024 kB\n",
            "AnonHugePages:         0 kB\n",
            "ShmemHugePages:        0 kB\n",
            "ShmemPmdMapped:        0 kB\n",
            "HugePages_Total:       0\n",
            "HugePages_Free:        0\n",
            "HugePages_Rsvd:        0\n",
            "HugePages_Surp:        0\n",
            "Hugepagesize:       2048 kB\n",
            "Hugetlb:               0 kB\n",
            "DirectMap4k:       83144 kB\n",
            "DirectMap2M:     5158912 kB\n",
            "DirectMap1G:    10485760 kB\n"
          ],
          "name": "stdout"
        }
      ]
    },
    {
      "cell_type": "code",
      "metadata": {
        "id": "qpvM2DhrDtnW"
      },
      "source": [
        "import matplotlib.pyplot as plt # The famous plotting library\n",
        "from numba import jit # wonderful optimization compiler. \n",
        "import numpy as np  # we can't work in python without that in physics (maybe we can if we are not lazy enough)\n",
        "import random # we are doing MC simulation after all!!\n",
        "import time # for time estimation \n",
        "# from tqdm import tqdm # fancy progress bars for loops , use this line if working with .py script\n",
        "from tqdm.notebook import tqdm # use this if working with jupyter notebook to avoid printing a new line for each iteration"
      ],
      "execution_count": null,
      "outputs": []
    },
    {
      "cell_type": "code",
      "metadata": {
        "id": "BnGcZ0-jDtnW"
      },
      "source": [
        "# Define parameters \n",
        "\n",
        "B = 0; # Magnetic field strength\n",
        "L = 50; # Lattice size (width)\n",
        "s = np.random.choice([1,-1],size=(L,L)) # Begin with random spin sites with values (+1 or -1) for up or down spins. \n",
        "n= 1000 * L**2 # number of MC sweeps \n",
        "Temperature = np.arange(1.6,3.25,0.01) # Initlaize temperature range (the range includes critical temperature) > takes form np.arange(start,stop,step)\n",
        "  \n",
        "\n",
        "\n",
        "'''\n",
        "Energy of the lattice calculations. \n",
        "The energy here is simply the sum of interactions between spins divided by the total number of spins\n",
        "'''\n",
        "@jit(nopython=True) # wonderful jit optimization compiler in its high performance mode\n",
        "def calcE(s):\n",
        "    E = 0\n",
        "    for i in range(L):\n",
        "        for j in range(L):\n",
        "            E += -dE(s,i,j)/2\n",
        "    return E/L**2\n",
        "\n",
        "'''\n",
        "Calculate the Magnetization of a given configuration\n",
        "Magnetization is the sum of all spins divided by the total number of spins\n",
        "\n",
        "'''\n",
        "@jit(nopython=True) # wonderful jit optimization compiler in its high performance mode\n",
        "def calcM(s):\n",
        "    m = np.abs(s.sum())\n",
        "    return m/L**2\n",
        "\n",
        "# Calculate interaction energy between spins. Assume periodic boundaries\n",
        "# Interaction energy will be the difference in energy due to flipping spin i,j \n",
        "# (Example: 2*spin_value*neighboring_spins)\n",
        "@jit(nopython=True) # wonderful jit optimization compiler in its high performance mode\n",
        "def dE(s,i,j): # change in energy function\n",
        "    #top\n",
        "    if i == 0:\n",
        "        t = s[L-1,j]  # periodic boundary (top)\n",
        "    else:\n",
        "        t = s[i-1,j]\n",
        "    #bottom\n",
        "    if i == L-1:\n",
        "        b = s[0,j]  # periodic boundary (bottom)\n",
        "    else:\n",
        "        b = s[i+1,j]\n",
        "    #left\n",
        "    if j == 0:\n",
        "        l = s[i,L-1]  # periodic boundary (left)\n",
        "    else:\n",
        "        l = s[i,j-1]\n",
        "    #right\n",
        "    if j == L-1:\n",
        "        r = s[i,0]  # periodic boundary  (right)\n",
        "    else:\n",
        "        r = s[i,j+1]\n",
        "    return 2*s[i,j]*(t+b+r+l)  # difference in energy is i,j is flipped\n",
        "\n",
        "# Monte-carlo sweep implementation\n",
        "@jit(nopython=True) # wonderful jit optimization compiler in its high performance mode\n",
        "def mc(s,Temp,n):   \n",
        "    for m in range(n):\n",
        "        i = random.randrange(L)  # choose random row\n",
        "        j = random.randrange(L)  # choose random column\n",
        "        ediff = dE(s,i,j)\n",
        "        if ediff <= 0: # if the change in energy is negative\n",
        "            s[i,j] = -s[i,j]  # accept move and flip spin\n",
        "        elif random.random() < np.exp(-ediff/Temp): # if not accept it with probability exp^{-dU/kT}\n",
        "            s[i,j] = -s[i,j]\n",
        "    return s\n",
        "\n",
        "# Compute physical quantities\n",
        "@jit(nopython=True)  # wonderful jit optimization compiler in its high performance mode\n",
        "def physics(s,T,n):\n",
        "    En = 0\n",
        "    En_sq = 0\n",
        "    Mg = 0\n",
        "    Mg_sq = 0\n",
        "    for p in range(n):\n",
        "        s = mc(s,T,1)\n",
        "        E = calcE(s)\n",
        "        M = calcM(s)\n",
        "        En += E\n",
        "        Mg += M\n",
        "        En_sq += E*E\n",
        "        Mg_sq += M*M\n",
        "    En_avg = En/n\n",
        "    mag = Mg/n\n",
        "    CV = (En_sq/n-(En/n)**2)/(T**2)\n",
        "    return En_avg, mag, CV"
      ],
      "execution_count": null,
      "outputs": []
    },
    {
      "cell_type": "code",
      "metadata": {
        "scrolled": true,
        "id": "ZPZmbLZyDtnX",
        "colab": {
          "base_uri": "https://localhost:8080/",
          "height": 84,
          "referenced_widgets": [
            "16b5752ddedf42ecbad8ee4cd2e10822",
            "73326740dadb4dcd8099cbf6686d8e81",
            "cd93a074d55441c4966307284be43abe",
            "8702078933234bf1aa1eb637bc4e38fd",
            "79e4ae47b99d4b8b9e2f38edd3338aa9",
            "094ed15455be42f8b711d5b47ca0a4b7",
            "cc34364c090d489d877d9fa15b577f55",
            "b8b58123714348aabae765de852e6595"
          ]
        },
        "outputId": "d15469cb-1887-4a27-a2c0-2d7756777d8e"
      },
      "source": [
        "# Inititalize magnetization, average energy and heat capacity\n",
        "mag = np.zeros(len(Temperature))\n",
        "En_avg = np.zeros(len(Temperature))\n",
        "CV = np.zeros(len(Temperature))\n",
        "\n",
        "start = time.time()\n",
        "\n",
        "# Simulate at particular temperatures (T) and compute physical quantities (Energy, heat capacity and magnetization)\n",
        "for ind, T in enumerate(tqdm(Temperature)):\n",
        "    # Sweeps spins\n",
        "    s = mc(s,T,n)\n",
        "    # Compute physical quanitites with 1000 sweeps per spin at temperature T\n",
        "    En_avg[ind], mag[ind], CV[ind] = physics(s,T,n)\n",
        "end = time.time()\n",
        "time = (end - start)/60\n",
        "print('It took ' + str(time) + ' minutes to execute the code')"
      ],
      "execution_count": null,
      "outputs": [
        {
          "output_type": "display_data",
          "data": {
            "application/vnd.jupyter.widget-view+json": {
              "model_id": "16b5752ddedf42ecbad8ee4cd2e10822",
              "version_minor": 0,
              "version_major": 2
            },
            "text/plain": [
              "HBox(children=(FloatProgress(value=0.0, max=165.0), HTML(value='')))"
            ]
          },
          "metadata": {
            "tags": []
          }
        },
        {
          "output_type": "stream",
          "text": [
            "\n",
            "It took 41.593717606862384 minutes to execute the code\n"
          ],
          "name": "stdout"
        }
      ]
    },
    {
      "cell_type": "markdown",
      "metadata": {
        "id": "hfON6MQarKdZ"
      },
      "source": [
        "It takes about 40 minutes for 50x50 lattice on my free colab instance. Colab provide pro plan which gives you double of specs but it is overkill of our purposes. maybe if we try a CUDA implementation for higher dimensions this could be helpful. "
      ]
    },
    {
      "cell_type": "code",
      "metadata": {
        "id": "XmYMPmbNGDEw",
        "colab": {
          "base_uri": "https://localhost:8080/",
          "height": 697
        },
        "outputId": "e2e9c3e8-ed57-4c16-ae60-a0b306f8eaba"
      },
      "source": [
        "#----------------------------------------------------------------------\n",
        "#  Plotting area\n",
        "#----------------------------------------------------------------------\n",
        "\n",
        "\n",
        "f = plt.figure(figsize=(18, 10)); # plot the calculated values  \n",
        "sp =  f.add_subplot(2, 2, 1 );\n",
        "plt.plot(Temperature, En_avg, marker='.', color='IndianRed')\n",
        "plt.xlabel(\"Temperature (T)\", fontsize=20);\n",
        "plt.ylabel(\"Energy \", fontsize=20);         plt.axis('tight');\n",
        "\n",
        "sp =  f.add_subplot(2, 2, 2 );\n",
        "plt.plot(Temperature, abs(mag), marker='.', color='RoyalBlue')\n",
        "plt.xlabel(\"Temperature (T)\", fontsize=20); \n",
        "plt.ylabel(\"Magnetization \", fontsize=20);   plt.axis('tight');\n",
        "\n",
        "sp =  f.add_subplot(2, 2, 3 );\n",
        "plt.plot(Temperature, CV, marker='.', color='IndianRed')\n",
        "plt.xlabel(\"Temperature (T)\", fontsize=20);  \n",
        "plt.ylabel(\"Specific Heat \", fontsize=20);   plt.axis('tight');   \n",
        "\n",
        "plt.subplots_adjust(0.12, 0.11, 0.90, 0.81, 0.26, 0.56)\n",
        "plt.suptitle(\"Simulation of 2D Ising Model by Metropolis Algorithm\\n\" + \"Lattice Dimension:\" + str(L) + \"X\" + str(\n",
        "    L) + \"\\n\" + \"External Magnetic Field(B)=\" + str(B) + \"\\n\" + \"Metropolis Step=\" + str(n))\n",
        "\n",
        "\n",
        "\n",
        "plt.show() # function to show the plots\n"
      ],
      "execution_count": null,
      "outputs": [
        {
          "output_type": "display_data",
          "data": {
            "image/png": "[encoded data removed]",
            "text/plain": [
              "<Figure size 1296x720 with 3 Axes>"
            ]
          },
          "metadata": {
            "tags": [],
            "needs_background": "light"
          }
        }
      ]
    },
    {
      "cell_type": "code",
      "metadata": {
        "colab": {
          "base_uri": "https://localhost:8080/",
          "height": 281
        },
        "id": "4KDXgbwrwLyc",
        "outputId": "9670ac7f-ed3b-455b-b72a-887a7e26917a"
      },
      "source": [
        "plt.hist(En_avg, bins=10)\n",
        "plt.gca().set(title='Energy Distribution', ylabel='Energy');"
      ],
      "execution_count": 10,
      "outputs": [
        {
          "output_type": "display_data",
          "data": {
            "image/png": "[encoded data removed]",
            "text/plain": [
              "<Figure size 432x288 with 1 Axes>"
            ]
          },
          "metadata": {
            "tags": [],
            "needs_background": "light"
          }
        }
      ]
    },
    {
      "cell_type": "code",
      "metadata": {
        "id": "Lf7PgCZ5whEo"
      },
      "source": [
        ""
      ],
      "execution_count": null,
      "outputs": []
    }
  ]
}